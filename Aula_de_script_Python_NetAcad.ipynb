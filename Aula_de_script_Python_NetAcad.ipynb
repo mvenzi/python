{
  "nbformat": 4,
  "nbformat_minor": 0,
  "metadata": {
    "colab": {
      "provenance": [],
      "include_colab_link": true
    },
    "kernelspec": {
      "name": "python3",
      "display_name": "Python 3"
    }
  },
  "cells": [
    {
      "cell_type": "markdown",
      "metadata": {
        "id": "view-in-github",
        "colab_type": "text"
      },
      "source": [
        "<a href=\"https://colab.research.google.com/github/mvenzi/python/blob/main/Aula_de_script_Python_NetAcad.ipynb\" target=\"_parent\"><img src=\"https://colab.research.google.com/assets/colab-badge.svg\" alt=\"Open In Colab\"/></a>"
      ]
    },
    {
      "cell_type": "code",
      "metadata": {
        "id": "wDumSOJly9to"
      },
      "source": [
        "nome = 'Pedro'\n",
        "idade = 83"
      ],
      "execution_count": 1,
      "outputs": []
    },
    {
      "cell_type": "code",
      "metadata": {
        "id": "gYFrzB93IPGp",
        "colab": {
          "base_uri": "https://localhost:8080/"
        },
        "outputId": "e68776ef-e1ef-44f2-ce4f-30fd23a4b377"
      },
      "source": [
        "a = \"c\"\n",
        "pri_nt=\"y\"\n",
        "memory1 = 0\n",
        "while a !=\"y\":\n",
        "    number1=input(\"Enter your number:\")\n",
        "    #number1= float(number1)\n",
        "    number1= int(number1)\n",
        "    memory1= number1+number1\n",
        "    pri_nt=input(\"do you want print?yes=>(x)/no :\")\n",
        "    if (pri_nt==\"x\"):\n",
        "        break\n",
        "\n",
        "print(f\"the sum of the numbers so far:{memory1}\")"
      ],
      "execution_count": 2,
      "outputs": [
        {
          "output_type": "stream",
          "name": "stdout",
          "text": [
            "Enter your number:12\n",
            "do you want print?yes=>(x)/no :yes\n",
            "Enter your number:12\n",
            "do you want print?yes=>(x)/no :x\n",
            "the sum of the numbers so far:24\n"
          ]
        }
      ]
    },
    {
      "cell_type": "code",
      "metadata": {
        "colab": {
          "base_uri": "https://localhost:8080/"
        },
        "id": "3c7kFi1u38An",
        "outputId": "389c969d-6fef-49ab-f7d4-68680cf2d7df"
      },
      "source": [
        "print(f\"Meu nome é {nome.upper()}\")\n",
        "print(f\"Tenho {idade} anos\")"
      ],
      "execution_count": 3,
      "outputs": [
        {
          "output_type": "stream",
          "name": "stdout",
          "text": [
            "Meu nome é PEDRO\n",
            "Tenho 83 anos\n"
          ]
        }
      ]
    },
    {
      "cell_type": "code",
      "metadata": {
        "id": "KyuEFdG4aW-2",
        "colab": {
          "base_uri": "https://localhost:8080/"
        },
        "outputId": "3a2a2cc2-aaac-40a5-dceb-6e719ffac2b1"
      },
      "source": [
        "if idade > 20:\n",
        "    print(f\"O usuário é velho já pode viajar sozinho pq tem {idade} anos\")\n",
        "else:\n",
        "  print(f\"O usuário é novo nao pode viajar pois ainda tem {idade} anos\")"
      ],
      "execution_count": 4,
      "outputs": [
        {
          "output_type": "stream",
          "name": "stdout",
          "text": [
            "O usuário é velho já pode viajar sozinho pq tem 83 anos\n"
          ]
        }
      ]
    },
    {
      "cell_type": "code",
      "metadata": {
        "colab": {
          "base_uri": "https://localhost:8080/"
        },
        "id": "l5ysqip3-xLV",
        "outputId": "c60a410c-5586-4266-cf66-11b05e74f2d5"
      },
      "source": [
        "if idade <= 10:\n",
        "  print('passagem gratis')\n",
        "elif idade <= 40:\n",
        "  print('passagem 75% de desconto')\n",
        "elif idade <= 65:\n",
        "  print('passagem sem desconto')\n",
        "else:\n",
        "  print('passagem com 25% de desconto')"
      ],
      "execution_count": null,
      "outputs": [
        {
          "output_type": "stream",
          "text": [
            "passagem com 25% de desconto\n"
          ],
          "name": "stdout"
        }
      ]
    },
    {
      "cell_type": "code",
      "metadata": {
        "colab": {
          "base_uri": "https://localhost:8080/"
        },
        "id": "IwMzl6J_442d",
        "outputId": "dedd1678-fe77-440b-d29c-dfca9c211506"
      },
      "source": [
        "print(f\"___CALCULADORA DO ANDRE___\")\n",
        "num1 = input('digite um numero - ')\n",
        "num1 = int(num1)\n",
        "num2 = input('digite outro numero - ')\n",
        "num2 = int(num2)\n",
        "total = num1 + num2\n",
        "print(f\"O total é {total}\")"
      ],
      "execution_count": null,
      "outputs": [
        {
          "output_type": "stream",
          "text": [
            "___CALCULADORA DO ANDRE___\n",
            "digite um numero - 25\n",
            "digite outro numero - 25\n",
            "O total é 50\n"
          ],
          "name": "stdout"
        }
      ]
    },
    {
      "cell_type": "code",
      "metadata": {
        "id": "eOrhftktaNeV",
        "colab": {
          "base_uri": "https://localhost:8080/"
        },
        "outputId": "e9478a42-423f-4f41-eb3d-9026c001b0cc"
      },
      "source": [
        "#somar\n",
        "arroz = 2\n",
        "feijao = 4\n",
        "total = arroz + feijao\n",
        "print(total)"
      ],
      "execution_count": null,
      "outputs": [
        {
          "output_type": "stream",
          "text": [
            "6\n"
          ],
          "name": "stdout"
        }
      ]
    },
    {
      "cell_type": "code",
      "metadata": {
        "colab": {
          "base_uri": "https://localhost:8080/"
        },
        "id": "4k3IISsk9YPl",
        "outputId": "655d13fe-3d2a-4ef1-c01c-033bfcfd8ab2"
      },
      "source": [
        "num1 = input('Entre com o 1º valor: ')\n",
        "num1 = int(num1)\n",
        "num2 = input('Entre com o 2º valor: ')\n",
        "num2 = int(num2)\n",
        "soma = num1 + num2\n",
        "soma = int(soma)\n",
        "print(soma)"
      ],
      "execution_count": null,
      "outputs": [
        {
          "output_type": "stream",
          "text": [
            "Entre com o 1º valor: 5\n",
            "Entre com o 2º valor: 5\n",
            "10\n"
          ],
          "name": "stdout"
        }
      ]
    },
    {
      "cell_type": "code",
      "metadata": {
        "colab": {
          "base_uri": "https://localhost:8080/"
        },
        "id": "qLlxHUqzaOyK",
        "outputId": "46f2b682-199d-40fb-981c-3ea46e1babec"
      },
      "source": [
        "name = input(\"Give me your name: \")\n",
        "print(\"Your name is \" + name)"
      ],
      "execution_count": null,
      "outputs": [
        {
          "output_type": "stream",
          "text": [
            "Give me your name: Jonas\n",
            "Your name is Jonas\n"
          ],
          "name": "stdout"
        }
      ]
    },
    {
      "cell_type": "code",
      "metadata": {
        "colab": {
          "base_uri": "https://localhost:8080/"
        },
        "id": "NGg3ooUI6MHX",
        "outputId": "eb202045-98f2-4c53-ed14-cc7a24b1a8f1"
      },
      "source": [
        "for x in range(1, 5):\n",
        "  print('{0:2d} {1:3d} {2:4d}'.format(x, x*x, x*x*x))"
      ],
      "execution_count": 5,
      "outputs": [
        {
          "output_type": "stream",
          "name": "stdout",
          "text": [
            " 1   1    1\n",
            " 2   4    8\n",
            " 3   9   27\n",
            " 4  16   64\n"
          ]
        }
      ]
    },
    {
      "cell_type": "code",
      "source": [
        "x = input()\n",
        "y = int(input())\n",
        "\n",
        "print(x * y)"
      ],
      "metadata": {
        "colab": {
          "base_uri": "https://localhost:8080/"
        },
        "id": "wBUkf2R5NCx6",
        "outputId": "1aafa3b7-1424-4a79-ca73-ec599193d8d4"
      },
      "execution_count": 6,
      "outputs": [
        {
          "output_type": "stream",
          "name": "stdout",
          "text": [
            "3\n",
            "6\n",
            "333333\n"
          ]
        }
      ]
    },
    {
      "cell_type": "code",
      "source": [
        "1 // 2 * 3"
      ],
      "metadata": {
        "colab": {
          "base_uri": "https://localhost:8080/"
        },
        "id": "fuVhpeQENobJ",
        "outputId": "1ab5c1f6-0f69-456c-b1ac-d80451ddf825"
      },
      "execution_count": 7,
      "outputs": [
        {
          "output_type": "execute_result",
          "data": {
            "text/plain": [
              "0"
            ]
          },
          "metadata": {},
          "execution_count": 7
        }
      ]
    },
    {
      "cell_type": "code",
      "source": [
        "x = 1\n",
        "y = 2\n",
        "z = x\n",
        "x = y\n",
        "y = z\n",
        "y = print (x, y)"
      ],
      "metadata": {
        "colab": {
          "base_uri": "https://localhost:8080/"
        },
        "id": "svhx-x8SN7wI",
        "outputId": "ef438c5c-bd5d-44fd-b39f-1af2256f511f"
      },
      "execution_count": 8,
      "outputs": [
        {
          "output_type": "stream",
          "name": "stdout",
          "text": [
            "2 1\n"
          ]
        }
      ]
    },
    {
      "cell_type": "code",
      "source": [
        "2 == 2.\n"
      ],
      "metadata": {
        "colab": {
          "base_uri": "https://localhost:8080/"
        },
        "id": "xjobR3L2Rd7i",
        "outputId": "965901a0-3533-4f77-c573-1cd8ca9e346d"
      },
      "execution_count": 12,
      "outputs": [
        {
          "output_type": "execute_result",
          "data": {
            "text/plain": [
              "True"
            ]
          },
          "metadata": {},
          "execution_count": 12
        }
      ]
    },
    {
      "cell_type": "code",
      "source": [
        "1 == 2"
      ],
      "metadata": {
        "colab": {
          "base_uri": "https://localhost:8080/"
        },
        "id": "Z1E8h3WvR4mH",
        "outputId": "be1f69b5-7cb3-4606-b3fb-8ee88f736662"
      },
      "execution_count": 13,
      "outputs": [
        {
          "output_type": "execute_result",
          "data": {
            "text/plain": [
              "False"
            ]
          },
          "metadata": {},
          "execution_count": 13
        }
      ]
    }
  ]
}